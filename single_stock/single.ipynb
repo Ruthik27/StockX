{
 "cells": [
  {
   "cell_type": "code",
   "execution_count": 29,
   "id": "6a471d7c",
   "metadata": {
    "collapsed": true
   },
   "outputs": [
    {
     "name": "stdout",
     "output_type": "stream",
     "text": [
      "Collecting xlsxwriter\n",
      "  Downloading XlsxWriter-3.2.0-py3-none-any.whl.metadata (2.6 kB)\n",
      "Downloading XlsxWriter-3.2.0-py3-none-any.whl (159 kB)\n",
      "\u001b[2K   \u001b[90m━━━━━━━━━━━━━━━━━━━━━━━━━━━━━━━━━━━━━━━━\u001b[0m \u001b[32m159.9/159.9 kB\u001b[0m \u001b[31m3.3 MB/s\u001b[0m eta \u001b[36m0:00:00\u001b[0ma \u001b[36m0:00:01\u001b[0m\n",
      "\u001b[?25hInstalling collected packages: xlsxwriter\n",
      "Successfully installed xlsxwriter-3.2.0\n",
      "Note: you may need to restart the kernel to use updated packages.\n"
     ]
    }
   ],
   "source": [
    "pip install xlsxwriter"
   ]
  },
  {
   "cell_type": "code",
   "execution_count": 2,
   "id": "f535c445",
   "metadata": {
    "scrolled": true
   },
   "outputs": [
    {
     "name": "stderr",
     "output_type": "stream",
     "text": [
      "/var/folders/nr/0m3_2w416k95_79fx2rpjb7h0000gn/T/ipykernel_12322/2330506887.py:9: FutureWarning: DataFrame.fillna with 'method' is deprecated and will raise in a future version. Use obj.ffill() or obj.bfill() instead.\n",
      "  data.fillna(method='ffill', inplace=True)\n",
      "/var/folders/nr/0m3_2w416k95_79fx2rpjb7h0000gn/T/ipykernel_12322/2330506887.py:10: FutureWarning: DataFrame.fillna with 'method' is deprecated and will raise in a future version. Use obj.ffill() or obj.bfill() instead.\n",
      "  data.fillna(method='bfill', inplace=True)\n"
     ]
    },
    {
     "name": "stdout",
     "output_type": "stream",
     "text": [
      "                Open      High       Low     Close  Adj Close    Volume  \\\n",
      "Date                                                                      \n",
      "1980-12-19  0.000386  0.000386  0.000391  0.000389   0.000301  0.006553   \n",
      "1980-12-22  0.000417  0.000417  0.000422  0.000420   0.000325  0.005034   \n",
      "1980-12-23  0.000445  0.000445  0.000451  0.000448   0.000347  0.006326   \n",
      "1980-12-24  0.000482  0.000481  0.000487  0.000485   0.000375  0.006468   \n",
      "1980-12-26  0.000550  0.000548  0.000555  0.000552   0.000427  0.007488   \n",
      "\n",
      "            Open_lag_1  Open_lag_2  Open_lag_3  Open_lag_4  ...  \\\n",
      "Date                                                        ...   \n",
      "1980-12-19    0.000350    0.000333    0.000321    0.000366  ...   \n",
      "1980-12-22    0.000386    0.000350    0.000333    0.000321  ...   \n",
      "1980-12-23    0.000417    0.000386    0.000350    0.000333  ...   \n",
      "1980-12-24    0.000445    0.000417    0.000386    0.000350  ...   \n",
      "1980-12-26    0.000482    0.000445    0.000417    0.000386  ...   \n",
      "\n",
      "            Adj Close_lag_1  Adj Close_lag_2  Adj Close_lag_3  \\\n",
      "Date                                                            \n",
      "1980-12-19         0.000273         0.000259         0.000249   \n",
      "1980-12-22         0.000301         0.000273         0.000259   \n",
      "1980-12-23         0.000325         0.000301         0.000273   \n",
      "1980-12-24         0.000347         0.000325         0.000301   \n",
      "1980-12-26         0.000375         0.000347         0.000325   \n",
      "\n",
      "            Adj Close_lag_4  Adj Close_lag_5  Volume_lag_1  Volume_lag_2  \\\n",
      "Date                                                                       \n",
      "1980-12-19         0.000283         0.000310      0.009897      0.011647   \n",
      "1980-12-22         0.000249         0.000283      0.006553      0.009897   \n",
      "1980-12-23         0.000259         0.000249      0.005034      0.006553   \n",
      "1980-12-24         0.000273         0.000259      0.006326      0.005034   \n",
      "1980-12-26         0.000301         0.000273      0.006468      0.006326   \n",
      "\n",
      "            Volume_lag_3  Volume_lag_4  Volume_lag_5  \n",
      "Date                                                  \n",
      "1980-12-19      0.014246      0.023699      0.063198  \n",
      "1980-12-22      0.011647      0.014246      0.023699  \n",
      "1980-12-23      0.009897      0.011647      0.014246  \n",
      "1980-12-24      0.006553      0.009897      0.011647  \n",
      "1980-12-26      0.005034      0.006553      0.009897  \n",
      "\n",
      "[5 rows x 36 columns]\n"
     ]
    }
   ],
   "source": [
    "import pandas as pd\n",
    "from sklearn.preprocessing import MinMaxScaler\n",
    "\n",
    "# Load the data\n",
    "file_path = './AAPL.csv'\n",
    "data = pd.read_csv(file_path, parse_dates=['Date'], index_col='Date')\n",
    "\n",
    "# Handle missing values by forward filling and then backfilling\n",
    "data.fillna(method='ffill', inplace=True)\n",
    "data.fillna(method='bfill', inplace=True)\n",
    "\n",
    "# Normalize the data\n",
    "scaler = MinMaxScaler()\n",
    "data[['Open', 'High', 'Low', 'Close', 'Adj Close', 'Volume']] = scaler.fit_transform(data[['Open', 'High', 'Low', 'Close', 'Adj Close', 'Volume']])\n",
    "\n",
    "# Creating lagged features for capturing temporal dependencies\n",
    "look_back = 5  # Number of lagged days you want to include\n",
    "for column in ['Open', 'High', 'Low', 'Close', 'Adj Close', 'Volume']:\n",
    "    for lag in range(1, look_back + 1):\n",
    "        data[column + '_lag_' + str(lag)] = data[column].shift(lag)\n",
    "\n",
    "# Drop any rows with NaN values which might have been introduced by shifting\n",
    "data.dropna(inplace=True)\n",
    "\n",
    "# Display the head of the processed data to verify changes\n",
    "print(data.head())\n",
    "\n",
    "# Optionally, save the processed data to a new CSV file\n",
    "data.to_csv('./processed_stock_data.csv')\n"
   ]
  },
  {
   "cell_type": "code",
   "execution_count": 3,
   "id": "1d6a33d3",
   "metadata": {
    "scrolled": true
   },
   "outputs": [
    {
     "data": {
      "text/html": [
       "<div>\n",
       "<style scoped>\n",
       "    .dataframe tbody tr th:only-of-type {\n",
       "        vertical-align: middle;\n",
       "    }\n",
       "\n",
       "    .dataframe tbody tr th {\n",
       "        vertical-align: top;\n",
       "    }\n",
       "\n",
       "    .dataframe thead th {\n",
       "        text-align: right;\n",
       "    }\n",
       "</style>\n",
       "<table border=\"1\" class=\"dataframe\">\n",
       "  <thead>\n",
       "    <tr style=\"text-align: right;\">\n",
       "      <th></th>\n",
       "      <th>Open</th>\n",
       "      <th>High</th>\n",
       "      <th>Low</th>\n",
       "      <th>Close</th>\n",
       "      <th>Adj Close</th>\n",
       "      <th>Volume</th>\n",
       "      <th>Open_lag_1</th>\n",
       "      <th>Open_lag_2</th>\n",
       "      <th>Open_lag_3</th>\n",
       "      <th>Open_lag_4</th>\n",
       "      <th>...</th>\n",
       "      <th>Adj Close_lag_1</th>\n",
       "      <th>Adj Close_lag_2</th>\n",
       "      <th>Adj Close_lag_3</th>\n",
       "      <th>Adj Close_lag_4</th>\n",
       "      <th>Adj Close_lag_5</th>\n",
       "      <th>Volume_lag_1</th>\n",
       "      <th>Volume_lag_2</th>\n",
       "      <th>Volume_lag_3</th>\n",
       "      <th>Volume_lag_4</th>\n",
       "      <th>Volume_lag_5</th>\n",
       "    </tr>\n",
       "    <tr>\n",
       "      <th>Date</th>\n",
       "      <th></th>\n",
       "      <th></th>\n",
       "      <th></th>\n",
       "      <th></th>\n",
       "      <th></th>\n",
       "      <th></th>\n",
       "      <th></th>\n",
       "      <th></th>\n",
       "      <th></th>\n",
       "      <th></th>\n",
       "      <th></th>\n",
       "      <th></th>\n",
       "      <th></th>\n",
       "      <th></th>\n",
       "      <th></th>\n",
       "      <th></th>\n",
       "      <th></th>\n",
       "      <th></th>\n",
       "      <th></th>\n",
       "      <th></th>\n",
       "      <th></th>\n",
       "    </tr>\n",
       "  </thead>\n",
       "  <tbody>\n",
       "    <tr>\n",
       "      <th>2024-04-29</th>\n",
       "      <td>0.875486</td>\n",
       "      <td>0.881796</td>\n",
       "      <td>0.878650</td>\n",
       "      <td>0.875745</td>\n",
       "      <td>0.876870</td>\n",
       "      <td>0.009185</td>\n",
       "      <td>0.857857</td>\n",
       "      <td>0.856090</td>\n",
       "      <td>0.840986</td>\n",
       "      <td>0.834975</td>\n",
       "      <td>...</td>\n",
       "      <td>0.855639</td>\n",
       "      <td>0.858621</td>\n",
       "      <td>0.854223</td>\n",
       "      <td>0.843506</td>\n",
       "      <td>0.838148</td>\n",
       "      <td>0.006042</td>\n",
       "      <td>0.006812</td>\n",
       "      <td>0.006502</td>\n",
       "      <td>0.006675</td>\n",
       "      <td>0.006483</td>\n",
       "    </tr>\n",
       "    <tr>\n",
       "      <th>2024-04-30</th>\n",
       "      <td>0.875284</td>\n",
       "      <td>0.876585</td>\n",
       "      <td>0.862910</td>\n",
       "      <td>0.859740</td>\n",
       "      <td>0.860845</td>\n",
       "      <td>0.008884</td>\n",
       "      <td>0.875486</td>\n",
       "      <td>0.857857</td>\n",
       "      <td>0.856090</td>\n",
       "      <td>0.840986</td>\n",
       "      <td>...</td>\n",
       "      <td>0.876870</td>\n",
       "      <td>0.855639</td>\n",
       "      <td>0.858621</td>\n",
       "      <td>0.854223</td>\n",
       "      <td>0.843506</td>\n",
       "      <td>0.009185</td>\n",
       "      <td>0.006042</td>\n",
       "      <td>0.006812</td>\n",
       "      <td>0.006502</td>\n",
       "      <td>0.006675</td>\n",
       "    </tr>\n",
       "    <tr>\n",
       "      <th>2024-05-01</th>\n",
       "      <td>0.856342</td>\n",
       "      <td>0.865160</td>\n",
       "      <td>0.858391</td>\n",
       "      <td>0.854540</td>\n",
       "      <td>0.855639</td>\n",
       "      <td>0.006789</td>\n",
       "      <td>0.875284</td>\n",
       "      <td>0.875486</td>\n",
       "      <td>0.857857</td>\n",
       "      <td>0.856090</td>\n",
       "      <td>...</td>\n",
       "      <td>0.860845</td>\n",
       "      <td>0.876870</td>\n",
       "      <td>0.855639</td>\n",
       "      <td>0.858621</td>\n",
       "      <td>0.854223</td>\n",
       "      <td>0.008884</td>\n",
       "      <td>0.009185</td>\n",
       "      <td>0.006042</td>\n",
       "      <td>0.006812</td>\n",
       "      <td>0.006502</td>\n",
       "    </tr>\n",
       "    <tr>\n",
       "      <th>2024-05-02</th>\n",
       "      <td>0.871142</td>\n",
       "      <td>0.868718</td>\n",
       "      <td>0.867429</td>\n",
       "      <td>0.873372</td>\n",
       "      <td>0.874494</td>\n",
       "      <td>0.012695</td>\n",
       "      <td>0.856342</td>\n",
       "      <td>0.875284</td>\n",
       "      <td>0.875486</td>\n",
       "      <td>0.857857</td>\n",
       "      <td>...</td>\n",
       "      <td>0.855639</td>\n",
       "      <td>0.860845</td>\n",
       "      <td>0.876870</td>\n",
       "      <td>0.855639</td>\n",
       "      <td>0.858621</td>\n",
       "      <td>0.006789</td>\n",
       "      <td>0.008884</td>\n",
       "      <td>0.009185</td>\n",
       "      <td>0.006042</td>\n",
       "      <td>0.006812</td>\n",
       "    </tr>\n",
       "    <tr>\n",
       "      <th>2024-05-03</th>\n",
       "      <td>0.942668</td>\n",
       "      <td>0.936764</td>\n",
       "      <td>0.927190</td>\n",
       "      <td>0.925629</td>\n",
       "      <td>0.926815</td>\n",
       "      <td>0.021254</td>\n",
       "      <td>0.871142</td>\n",
       "      <td>0.856342</td>\n",
       "      <td>0.875284</td>\n",
       "      <td>0.875486</td>\n",
       "      <td>...</td>\n",
       "      <td>0.874494</td>\n",
       "      <td>0.855639</td>\n",
       "      <td>0.860845</td>\n",
       "      <td>0.876870</td>\n",
       "      <td>0.855639</td>\n",
       "      <td>0.012695</td>\n",
       "      <td>0.006789</td>\n",
       "      <td>0.008884</td>\n",
       "      <td>0.009185</td>\n",
       "      <td>0.006042</td>\n",
       "    </tr>\n",
       "  </tbody>\n",
       "</table>\n",
       "<p>5 rows × 36 columns</p>\n",
       "</div>"
      ],
      "text/plain": [
       "                Open      High       Low     Close  Adj Close    Volume  \\\n",
       "Date                                                                      \n",
       "2024-04-29  0.875486  0.881796  0.878650  0.875745   0.876870  0.009185   \n",
       "2024-04-30  0.875284  0.876585  0.862910  0.859740   0.860845  0.008884   \n",
       "2024-05-01  0.856342  0.865160  0.858391  0.854540   0.855639  0.006789   \n",
       "2024-05-02  0.871142  0.868718  0.867429  0.873372   0.874494  0.012695   \n",
       "2024-05-03  0.942668  0.936764  0.927190  0.925629   0.926815  0.021254   \n",
       "\n",
       "            Open_lag_1  Open_lag_2  Open_lag_3  Open_lag_4  ...  \\\n",
       "Date                                                        ...   \n",
       "2024-04-29    0.857857    0.856090    0.840986    0.834975  ...   \n",
       "2024-04-30    0.875486    0.857857    0.856090    0.840986  ...   \n",
       "2024-05-01    0.875284    0.875486    0.857857    0.856090  ...   \n",
       "2024-05-02    0.856342    0.875284    0.875486    0.857857  ...   \n",
       "2024-05-03    0.871142    0.856342    0.875284    0.875486  ...   \n",
       "\n",
       "            Adj Close_lag_1  Adj Close_lag_2  Adj Close_lag_3  \\\n",
       "Date                                                            \n",
       "2024-04-29         0.855639         0.858621         0.854223   \n",
       "2024-04-30         0.876870         0.855639         0.858621   \n",
       "2024-05-01         0.860845         0.876870         0.855639   \n",
       "2024-05-02         0.855639         0.860845         0.876870   \n",
       "2024-05-03         0.874494         0.855639         0.860845   \n",
       "\n",
       "            Adj Close_lag_4  Adj Close_lag_5  Volume_lag_1  Volume_lag_2  \\\n",
       "Date                                                                       \n",
       "2024-04-29         0.843506         0.838148      0.006042      0.006812   \n",
       "2024-04-30         0.854223         0.843506      0.009185      0.006042   \n",
       "2024-05-01         0.858621         0.854223      0.008884      0.009185   \n",
       "2024-05-02         0.855639         0.858621      0.006789      0.008884   \n",
       "2024-05-03         0.876870         0.855639      0.012695      0.006789   \n",
       "\n",
       "            Volume_lag_3  Volume_lag_4  Volume_lag_5  \n",
       "Date                                                  \n",
       "2024-04-29      0.006502      0.006675      0.006483  \n",
       "2024-04-30      0.006812      0.006502      0.006675  \n",
       "2024-05-01      0.006042      0.006812      0.006502  \n",
       "2024-05-02      0.009185      0.006042      0.006812  \n",
       "2024-05-03      0.008884      0.009185      0.006042  \n",
       "\n",
       "[5 rows x 36 columns]"
      ]
     },
     "execution_count": 3,
     "metadata": {},
     "output_type": "execute_result"
    }
   ],
   "source": [
    "data.tail()"
   ]
  },
  {
   "cell_type": "code",
   "execution_count": null,
   "id": "2a67020b",
   "metadata": {},
   "outputs": [],
   "source": []
  },
  {
   "cell_type": "code",
   "execution_count": null,
   "id": "e7db3d25",
   "metadata": {},
   "outputs": [],
   "source": []
  },
  {
   "cell_type": "code",
   "execution_count": null,
   "id": "51e5bb1c",
   "metadata": {},
   "outputs": [],
   "source": []
  },
  {
   "cell_type": "code",
   "execution_count": 83,
   "id": "cdd4cc78",
   "metadata": {
    "scrolled": true
   },
   "outputs": [],
   "source": [
    "# Correcting the way to handle DataFrame slices\n",
    "latest_data = data.tail(look_back).copy()  # Use .copy() to ensure you work on a copy of the slice\n"
   ]
  },
  {
   "cell_type": "code",
   "execution_count": 4,
   "id": "ae945ea9",
   "metadata": {
    "scrolled": true
   },
   "outputs": [
    {
     "name": "stderr",
     "output_type": "stream",
     "text": [
      "/var/folders/nr/0m3_2w416k95_79fx2rpjb7h0000gn/T/ipykernel_12322/3349682735.py:18: FutureWarning: A value is trying to be set on a copy of a DataFrame or Series through chained assignment using an inplace method.\n",
      "The behavior will change in pandas 3.0. This inplace method will never work because the intermediate object on which we are setting values always behaves as a copy.\n",
      "\n",
      "For example, when doing 'df[col].method(value, inplace=True)', try using 'df.method({col: value}, inplace=True)' or df[col] = df[col].method(value) instead, to perform the operation inplace on the original object.\n",
      "\n",
      "\n",
      "  data['Dividends'].fillna(0, inplace=True)\n",
      "/var/folders/nr/0m3_2w416k95_79fx2rpjb7h0000gn/T/ipykernel_12322/3349682735.py:21: FutureWarning: DataFrame.fillna with 'method' is deprecated and will raise in a future version. Use obj.ffill() or obj.bfill() instead.\n",
      "  data.fillna(method='ffill', inplace=True)\n",
      "/var/folders/nr/0m3_2w416k95_79fx2rpjb7h0000gn/T/ipykernel_12322/3349682735.py:22: FutureWarning: DataFrame.fillna with 'method' is deprecated and will raise in a future version. Use obj.ffill() or obj.bfill() instead.\n",
      "  data.fillna(method='bfill', inplace=True)\n",
      "WARNING:absl:At this time, the v2.11+ optimizer `tf.keras.optimizers.Adam` runs slowly on M1/M2 Macs, please use the legacy Keras optimizer instead, located at `tf.keras.optimizers.legacy.Adam`.\n"
     ]
    },
    {
     "name": "stdout",
     "output_type": "stream",
     "text": [
      "Epoch 1/50\n",
      "274/274 [==============================] - 3s 3ms/step - loss: 2.5424e-04 - val_loss: 0.0012\n",
      "Epoch 2/50\n",
      "274/274 [==============================] - 0s 1ms/step - loss: 1.8195e-05 - val_loss: 3.2601e-04\n",
      "Epoch 3/50\n",
      "274/274 [==============================] - 0s 1ms/step - loss: 1.9322e-05 - val_loss: 4.0088e-04\n",
      "Epoch 4/50\n",
      "274/274 [==============================] - 0s 1ms/step - loss: 1.6087e-05 - val_loss: 8.5666e-04\n",
      "Epoch 5/50\n",
      "274/274 [==============================] - 0s 2ms/step - loss: 1.5588e-05 - val_loss: 0.0016\n",
      "Epoch 6/50\n",
      "274/274 [==============================] - 1s 2ms/step - loss: 1.5735e-05 - val_loss: 0.0032\n",
      "Epoch 7/50\n",
      "274/274 [==============================] - 1s 2ms/step - loss: 1.6463e-05 - val_loss: 0.0014\n",
      "Epoch 8/50\n",
      "274/274 [==============================] - 0s 2ms/step - loss: 1.5501e-05 - val_loss: 0.0011\n",
      "Epoch 9/50\n",
      "274/274 [==============================] - 0s 1ms/step - loss: 1.7110e-05 - val_loss: 0.0026\n",
      "Epoch 10/50\n",
      "274/274 [==============================] - 0s 1ms/step - loss: 1.5886e-05 - val_loss: 0.0046\n",
      "Epoch 11/50\n",
      "274/274 [==============================] - 0s 2ms/step - loss: 1.5311e-05 - val_loss: 0.0043\n",
      "Epoch 12/50\n",
      "274/274 [==============================] - 0s 1ms/step - loss: 1.5000e-05 - val_loss: 0.0033\n",
      "1/1 [==============================] - 0s 355ms/step\n",
      "Predicted next day stock price: 177.1647457086793\n"
     ]
    }
   ],
   "source": [
    "import pandas as pd\n",
    "import numpy as np\n",
    "from sklearn.preprocessing import MinMaxScaler\n",
    "from tensorflow.keras.models import Sequential\n",
    "from tensorflow.keras.layers import LSTM, Dense, Dropout\n",
    "from tensorflow.keras.optimizers import Adam\n",
    "from tensorflow.keras.callbacks import EarlyStopping\n",
    "from sklearn.metrics import mean_squared_error, mean_absolute_error\n",
    "\n",
    "# Load the data\n",
    "file_path = './AAPL.csv'\n",
    "data = pd.read_csv(file_path, parse_dates=['Date'], index_col='Date')\n",
    "\n",
    "# Load dividend data\n",
    "dividend_path = './AAPL_dividend.csv'\n",
    "dividends = pd.read_csv(dividend_path, parse_dates=['Date'], index_col='Date')\n",
    "data = data.join(dividends, how='left')\n",
    "data['Dividends'].fillna(0, inplace=True)\n",
    "\n",
    "# Fill missing values\n",
    "data.fillna(method='ffill', inplace=True)\n",
    "data.fillna(method='bfill', inplace=True)\n",
    "\n",
    "# Normalize the data\n",
    "scaler = MinMaxScaler(feature_range=(0, 1))\n",
    "features = ['Open', 'High', 'Low', 'Close', 'Volume', 'Dividends']  # Expanded feature set\n",
    "data_scaled = scaler.fit_transform(data[features])\n",
    "data_scaled_df = pd.DataFrame(data_scaled, columns=features, index=data.index)\n",
    "\n",
    "# Avoiding any infinite or NaN issues in input data\n",
    "data_scaled_df.replace([np.inf, -np.inf], np.nan, inplace=True)\n",
    "data_scaled_df.dropna(inplace=True)\n",
    "\n",
    "# Preparing data for LSTM\n",
    "X = np.array(data_scaled_df.drop(['Close'], axis=1))\n",
    "y = np.array(data_scaled_df['Close'])\n",
    "X = X.reshape((X.shape[0], 1, X.shape[1]))\n",
    "\n",
    "# Split data into train and test sets\n",
    "split = int(0.8 * len(X))\n",
    "X_train, X_test = X[:split], X[split:]\n",
    "y_train, y_test = y[:split], y[split:]\n",
    "\n",
    "# Build the LSTM model\n",
    "model = Sequential([\n",
    "    LSTM(50, input_shape=(X_train.shape[1], X_train.shape[2]), return_sequences=True),\n",
    "    Dropout(0.2),\n",
    "    LSTM(50),\n",
    "    Dropout(0.2),\n",
    "    Dense(1)\n",
    "])\n",
    "\n",
    "optimizer = Adam(learning_rate=0.001, clipvalue=0.5)  # Adjusted learning rate and added clipvalue\n",
    "model.compile(optimizer=optimizer, loss='mean_squared_error')\n",
    "\n",
    "# Callback for early stopping\n",
    "early_stopping = EarlyStopping(monitor='val_loss', patience=10, restore_best_weights=True)\n",
    "\n",
    "# Training the model\n",
    "history = model.fit(X_train, y_train, epochs=50, batch_size=32, validation_data=(X_test, y_test), callbacks=[early_stopping], verbose=1)\n",
    "\n",
    "# Check for NaN values in training or validation loss\n",
    "if np.isnan(history.history['loss']).any() or np.isnan(history.history['val_loss']).any():\n",
    "    print(\"NaN values detected during training. Consider adjusting model parameters or data preprocessing steps.\")\n",
    "\n",
    "# Predict the next stock price\n",
    "predicted_scaled_price = model.predict(X_test[-1].reshape(1, 1, X_test.shape[2]))\n",
    "predicted_price = scaler.inverse_transform(np.concatenate((predicted_scaled_price, np.zeros((predicted_scaled_price.shape[0], len(features)-1))), axis=1))[:, 0]\n",
    "print(f\"Predicted next day stock price: {predicted_price[0]}\")\n"
   ]
  },
  {
   "cell_type": "code",
   "execution_count": 5,
   "id": "bf775a34",
   "metadata": {},
   "outputs": [
    {
     "name": "stdout",
     "output_type": "stream",
     "text": [
      "69/69 [==============================] - 0s 620us/step\n",
      "Mean Squared Error: 0.0003260087651441448\n",
      "Mean Absolute Error: 0.0111094723274777\n",
      "Root Mean Squared Error: 0.01805571281185389\n",
      "1/1 [==============================] - 0s 9ms/step\n",
      "Predicted next day stock price: 177.1647457086793\n"
     ]
    }
   ],
   "source": [
    "# Evaluate the model\n",
    "y_pred = model.predict(X_test)\n",
    "mse = mean_squared_error(y_test, y_pred)\n",
    "mae = mean_absolute_error(y_test, y_pred)\n",
    "rmse = np.sqrt(mse)  # Calculating RMSE\n",
    "\n",
    "print(\"Mean Squared Error:\", mse)\n",
    "print(\"Mean Absolute Error:\", mae)\n",
    "print(\"Root Mean Squared Error:\", rmse)\n",
    "\n",
    "# Predict the next stock pricebb\n",
    "predicted_scaled_price = model.predict(X_test[-1].reshape(1, 1, X_test.shape[2]))\n",
    "predicted_price = scaler.inverse_transform(np.concatenate((predicted_scaled_price, np.zeros((predicted_scaled_price.shape[0], len(features)-1))), axis=1))[:, 0]\n",
    "print(f\"Predicted next day stock price: {predicted_price[0]}\")\n"
   ]
  },
  {
   "cell_type": "code",
   "execution_count": 6,
   "id": "8a30ac06",
   "metadata": {},
   "outputs": [
    {
     "data": {
      "image/png": "[encoded data removed]",
      "text/plain": [
       "<Figure size 1000x600 with 1 Axes>"
      ]
     },
     "metadata": {},
     "output_type": "display_data"
    },
    {
     "name": "stdout",
     "output_type": "stream",
     "text": [
      "1/1 [==============================] - 0s 15ms/step\n",
      "Predicted next day stock price: 177.1647457086793\n"
     ]
    }
   ],
   "source": [
    "# Plotting training and validation loss\n",
    "plt.figure(figsize=(10, 6))\n",
    "plt.plot(history.history['loss'], label='Train Loss')\n",
    "plt.plot(history.history['val_loss'], label='Validation Loss')\n",
    "plt.title('Model Loss Over Epochs')\n",
    "plt.ylabel('Loss')\n",
    "plt.xlabel('Epoch')\n",
    "plt.legend()\n",
    "plt.show()\n",
    "\n",
    "# Predict the next stock price\n",
    "predicted_scaled_price = model.predict(X_test[-1].reshape(1, 1, X_test.shape[2]))\n",
    "predicted_price = scaler.inverse_transform(np.concatenate((predicted_scaled_price, np.zeros((predicted_scaled_price.shape[0], len(features)-1))), axis=1))[:, 0]\n",
    "print(f\"Predicted next day stock price: {predicted_price[0]}\")"
   ]
  },
  {
   "cell_type": "code",
   "execution_count": 8,
   "id": "7ed240ad",
   "metadata": {},
   "outputs": [
    {
     "data": {
      "text/plain": [
       "Index(['date', ' GDP Growth', ' Annual Change'], dtype='object')"
      ]
     },
     "execution_count": 8,
     "metadata": {},
     "output_type": "execute_result"
    }
   ],
   "source": [
    "d = pd.read_csv(\"../yahoo_/united-states-gdp-growth-rate.csv\")\n",
    "d.columns"
   ]
  },
  {
   "cell_type": "code",
   "execution_count": 27,
   "id": "d21d4fb9",
   "metadata": {
    "collapsed": true
   },
   "outputs": [
    {
     "name": "stdout",
     "output_type": "stream",
     "text": [
      "Collecting wandb\n",
      "  Downloading wandb-0.16.6-py3-none-any.whl.metadata (10 kB)\n",
      "Requirement already satisfied: Click!=8.0.0,>=7.1 in /Users/ruthikkale/anaconda3/lib/python3.11/site-packages (from wandb) (8.0.4)\n",
      "Collecting GitPython!=3.1.29,>=1.0.0 (from wandb)\n",
      "  Downloading GitPython-3.1.43-py3-none-any.whl.metadata (13 kB)\n",
      "Requirement already satisfied: requests<3,>=2.0.0 in /Users/ruthikkale/anaconda3/lib/python3.11/site-packages (from wandb) (2.31.0)\n",
      "Requirement already satisfied: psutil>=5.0.0 in /Users/ruthikkale/anaconda3/lib/python3.11/site-packages (from wandb) (5.9.0)\n",
      "Collecting sentry-sdk>=1.0.0 (from wandb)\n",
      "  Downloading sentry_sdk-2.0.1-py2.py3-none-any.whl.metadata (9.9 kB)\n",
      "Collecting docker-pycreds>=0.4.0 (from wandb)\n",
      "  Downloading docker_pycreds-0.4.0-py2.py3-none-any.whl.metadata (1.8 kB)\n",
      "Requirement already satisfied: PyYAML in /Users/ruthikkale/anaconda3/lib/python3.11/site-packages (from wandb) (6.0)\n",
      "Collecting setproctitle (from wandb)\n",
      "  Downloading setproctitle-1.3.3-cp311-cp311-macosx_10_9_universal2.whl.metadata (9.9 kB)\n",
      "Requirement already satisfied: setuptools in /Users/ruthikkale/anaconda3/lib/python3.11/site-packages (from wandb) (68.0.0)\n",
      "Requirement already satisfied: appdirs>=1.4.3 in /Users/ruthikkale/anaconda3/lib/python3.11/site-packages (from wandb) (1.4.4)\n",
      "Requirement already satisfied: protobuf!=4.21.0,<5,>=3.19.0 in /Users/ruthikkale/anaconda3/lib/python3.11/site-packages (from wandb) (4.24.4)\n",
      "Requirement already satisfied: six>=1.4.0 in /Users/ruthikkale/anaconda3/lib/python3.11/site-packages (from docker-pycreds>=0.4.0->wandb) (1.16.0)\n",
      "Collecting gitdb<5,>=4.0.1 (from GitPython!=3.1.29,>=1.0.0->wandb)\n",
      "  Downloading gitdb-4.0.11-py3-none-any.whl.metadata (1.2 kB)\n",
      "Requirement already satisfied: charset-normalizer<4,>=2 in /Users/ruthikkale/anaconda3/lib/python3.11/site-packages (from requests<3,>=2.0.0->wandb) (2.0.4)\n",
      "Requirement already satisfied: idna<4,>=2.5 in /Users/ruthikkale/anaconda3/lib/python3.11/site-packages (from requests<3,>=2.0.0->wandb) (3.4)\n",
      "Requirement already satisfied: urllib3<3,>=1.21.1 in /Users/ruthikkale/anaconda3/lib/python3.11/site-packages (from requests<3,>=2.0.0->wandb) (1.26.16)\n",
      "Requirement already satisfied: certifi>=2017.4.17 in /Users/ruthikkale/anaconda3/lib/python3.11/site-packages (from requests<3,>=2.0.0->wandb) (2023.7.22)\n",
      "Collecting smmap<6,>=3.0.1 (from gitdb<5,>=4.0.1->GitPython!=3.1.29,>=1.0.0->wandb)\n",
      "  Downloading smmap-5.0.1-py3-none-any.whl.metadata (4.3 kB)\n",
      "Downloading wandb-0.16.6-py3-none-any.whl (2.2 MB)\n",
      "\u001b[2K   \u001b[90m━━━━━━━━━━━━━━━━━━━━━━━━━━━━━━━━━━━━━━━━\u001b[0m \u001b[32m2.2/2.2 MB\u001b[0m \u001b[31m16.5 MB/s\u001b[0m eta \u001b[36m0:00:00\u001b[0ma \u001b[36m0:00:01\u001b[0m\n",
      "\u001b[?25hDownloading docker_pycreds-0.4.0-py2.py3-none-any.whl (9.0 kB)\n",
      "Downloading GitPython-3.1.43-py3-none-any.whl (207 kB)\n",
      "\u001b[2K   \u001b[90m━━━━━━━━━━━━━━━━━━━━━━━━━━━━━━━━━━━━━━━━\u001b[0m \u001b[32m207.3/207.3 kB\u001b[0m \u001b[31m21.4 MB/s\u001b[0m eta \u001b[36m0:00:00\u001b[0m\n",
      "\u001b[?25hDownloading sentry_sdk-2.0.1-py2.py3-none-any.whl (266 kB)\n",
      "\u001b[2K   \u001b[90m━━━━━━━━━━━━━━━━━━━━━━━━━━━━━━━━━━━━━━━━\u001b[0m \u001b[32m266.8/266.8 kB\u001b[0m \u001b[31m23.1 MB/s\u001b[0m eta \u001b[36m0:00:00\u001b[0m\n",
      "\u001b[?25hDownloading setproctitle-1.3.3-cp311-cp311-macosx_10_9_universal2.whl (16 kB)\n",
      "Downloading gitdb-4.0.11-py3-none-any.whl (62 kB)\n",
      "\u001b[2K   \u001b[90m━━━━━━━━━━━━━━━━━━━━━━━━━━━━━━━━━━━━━━━━\u001b[0m \u001b[32m62.7/62.7 kB\u001b[0m \u001b[31m6.9 MB/s\u001b[0m eta \u001b[36m0:00:00\u001b[0m\n",
      "\u001b[?25hDownloading smmap-5.0.1-py3-none-any.whl (24 kB)\n",
      "Installing collected packages: smmap, setproctitle, sentry-sdk, docker-pycreds, gitdb, GitPython, wandb\n",
      "Successfully installed GitPython-3.1.43 docker-pycreds-0.4.0 gitdb-4.0.11 sentry-sdk-2.0.1 setproctitle-1.3.3 smmap-5.0.1 wandb-0.16.6\n"
     ]
    }
   ],
   "source": [
    "!pip install wandb"
   ]
  },
  {
   "cell_type": "code",
   "execution_count": 10,
   "id": "c13b9532",
   "metadata": {
    "scrolled": true
   },
   "outputs": [
    {
     "name": "stdout",
     "output_type": "stream",
     "text": [
      "Do you want to start a new run or continue an existing one? ('new' or 'existing'): new\n"
     ]
    },
    {
     "data": {
      "text/html": [
       "Finishing last run (ID:let2s7me) before initializing another..."
      ],
      "text/plain": [
       "<IPython.core.display.HTML object>"
      ]
     },
     "metadata": {},
     "output_type": "display_data"
    },
    {
     "data": {
      "application/vnd.jupyter.widget-view+json": {
       "model_id": "",
       "version_major": 2,
       "version_minor": 0
      },
      "text/plain": [
       "VBox(children=(Label(value='0.009 MB of 0.009 MB uploaded\\r'), FloatProgress(value=0.9503962128228878, max=1.0…"
      ]
     },
     "metadata": {},
     "output_type": "display_data"
    },
    {
     "data": {
      "text/html": [
       " View run <strong style=\"color:#cdcd00\">faithful-plasma-37</strong> at: <a href='https://wandb.ai/rk42218/LSTM/runs/let2s7me' target=\"_blank\">https://wandb.ai/rk42218/LSTM/runs/let2s7me</a><br/> View project at: <a href='https://wandb.ai/rk42218/LSTM' target=\"_blank\">https://wandb.ai/rk42218/LSTM</a><br/>Synced 4 W&B file(s), 0 media file(s), 0 artifact file(s) and 0 other file(s)"
      ],
      "text/plain": [
       "<IPython.core.display.HTML object>"
      ]
     },
     "metadata": {},
     "output_type": "display_data"
    },
    {
     "data": {
      "text/html": [
       "Find logs at: <code>./wandb/run-20240512_191110-let2s7me/logs</code>"
      ],
      "text/plain": [
       "<IPython.core.display.HTML object>"
      ]
     },
     "metadata": {},
     "output_type": "display_data"
    },
    {
     "data": {
      "text/html": [
       "Successfully finished last run (ID:let2s7me). Initializing new run:<br/>"
      ],
      "text/plain": [
       "<IPython.core.display.HTML object>"
      ]
     },
     "metadata": {},
     "output_type": "display_data"
    },
    {
     "data": {
      "application/vnd.jupyter.widget-view+json": {
       "model_id": "21335209a6be484fb47bb0aac76dae0a",
       "version_major": 2,
       "version_minor": 0
      },
      "text/plain": [
       "VBox(children=(Label(value='Waiting for wandb.init()...\\r'), FloatProgress(value=0.011167545833369432, max=1.0…"
      ]
     },
     "metadata": {},
     "output_type": "display_data"
    },
    {
     "data": {
      "text/html": [
       "wandb version 0.17.0 is available!  To upgrade, please run:\n",
       " $ pip install wandb --upgrade"
      ],
      "text/plain": [
       "<IPython.core.display.HTML object>"
      ]
     },
     "metadata": {},
     "output_type": "display_data"
    },
    {
     "data": {
      "text/html": [
       "Tracking run with wandb version 0.16.6"
      ],
      "text/plain": [
       "<IPython.core.display.HTML object>"
      ]
     },
     "metadata": {},
     "output_type": "display_data"
    },
    {
     "data": {
      "text/html": [
       "Run data is saved locally in <code>/Users/ruthikkale/Documents/GitHub/StockX/single_stock/wandb/run-20240512_191504-drrnrokf</code>"
      ],
      "text/plain": [
       "<IPython.core.display.HTML object>"
      ]
     },
     "metadata": {},
     "output_type": "display_data"
    },
    {
     "data": {
      "text/html": [
       "Syncing run <strong><a href='https://wandb.ai/rk42218/LSTM/runs/drrnrokf' target=\"_blank\">earthy-eon-38</a></strong> to <a href='https://wandb.ai/rk42218/LSTM' target=\"_blank\">Weights & Biases</a> (<a href='https://wandb.me/run' target=\"_blank\">docs</a>)<br/>"
      ],
      "text/plain": [
       "<IPython.core.display.HTML object>"
      ]
     },
     "metadata": {},
     "output_type": "display_data"
    },
    {
     "data": {
      "text/html": [
       " View project at <a href='https://wandb.ai/rk42218/LSTM' target=\"_blank\">https://wandb.ai/rk42218/LSTM</a>"
      ],
      "text/plain": [
       "<IPython.core.display.HTML object>"
      ]
     },
     "metadata": {},
     "output_type": "display_data"
    },
    {
     "data": {
      "text/html": [
       " View run at <a href='https://wandb.ai/rk42218/LSTM/runs/drrnrokf' target=\"_blank\">https://wandb.ai/rk42218/LSTM/runs/drrnrokf</a>"
      ],
      "text/plain": [
       "<IPython.core.display.HTML object>"
      ]
     },
     "metadata": {},
     "output_type": "display_data"
    },
    {
     "name": "stdout",
     "output_type": "stream",
     "text": [
      "BRO_20240512\n"
     ]
    },
    {
     "ename": "KeyError",
     "evalue": "['Dividends']",
     "output_type": "error",
     "traceback": [
      "\u001b[0;31m---------------------------------------------------------------------------\u001b[0m",
      "\u001b[0;31mKeyError\u001b[0m                                  Traceback (most recent call last)",
      "Cell \u001b[0;32mIn[10], line 69\u001b[0m\n\u001b[1;32m     66\u001b[0m data[\u001b[38;5;124m'\u001b[39m\u001b[38;5;124mRSI\u001b[39m\u001b[38;5;124m'\u001b[39m] \u001b[38;5;241m=\u001b[39m rsi_calculation(data[\u001b[38;5;124m'\u001b[39m\u001b[38;5;124mClose\u001b[39m\u001b[38;5;124m'\u001b[39m])\n\u001b[1;32m     67\u001b[0m data[\u001b[38;5;124m'\u001b[39m\u001b[38;5;124mMACD\u001b[39m\u001b[38;5;124m'\u001b[39m], data[\u001b[38;5;124m'\u001b[39m\u001b[38;5;124mSignal\u001b[39m\u001b[38;5;124m'\u001b[39m] \u001b[38;5;241m=\u001b[39m macd_calculation(data[\u001b[38;5;124m'\u001b[39m\u001b[38;5;124mClose\u001b[39m\u001b[38;5;124m'\u001b[39m])\n\u001b[0;32m---> 69\u001b[0m clean_data \u001b[38;5;241m=\u001b[39m data\u001b[38;5;241m.\u001b[39mdropna(subset\u001b[38;5;241m=\u001b[39mfeatures)\n\u001b[1;32m     70\u001b[0m \u001b[38;5;28;01mif\u001b[39;00m clean_data\u001b[38;5;241m.\u001b[39mempty:\n\u001b[1;32m     71\u001b[0m     \u001b[38;5;28mprint\u001b[39m(\u001b[38;5;124mf\u001b[39m\u001b[38;5;124m\"\u001b[39m\u001b[38;5;124mData for \u001b[39m\u001b[38;5;132;01m{\u001b[39;00mticker_name\u001b[38;5;132;01m}\u001b[39;00m\u001b[38;5;124m is empty after dropping NaN values. Skipping this stock.\u001b[39m\u001b[38;5;124m\"\u001b[39m)\n",
      "File \u001b[0;32m~/anaconda3/lib/python3.11/site-packages/pandas/core/frame.py:6654\u001b[0m, in \u001b[0;36mDataFrame.dropna\u001b[0;34m(self, axis, how, thresh, subset, inplace, ignore_index)\u001b[0m\n\u001b[1;32m   6652\u001b[0m     check \u001b[38;5;241m=\u001b[39m indices \u001b[38;5;241m==\u001b[39m \u001b[38;5;241m-\u001b[39m\u001b[38;5;241m1\u001b[39m\n\u001b[1;32m   6653\u001b[0m     \u001b[38;5;28;01mif\u001b[39;00m check\u001b[38;5;241m.\u001b[39many():\n\u001b[0;32m-> 6654\u001b[0m         \u001b[38;5;28;01mraise\u001b[39;00m \u001b[38;5;167;01mKeyError\u001b[39;00m(np\u001b[38;5;241m.\u001b[39marray(subset)[check]\u001b[38;5;241m.\u001b[39mtolist())\n\u001b[1;32m   6655\u001b[0m     agg_obj \u001b[38;5;241m=\u001b[39m \u001b[38;5;28mself\u001b[39m\u001b[38;5;241m.\u001b[39mtake(indices, axis\u001b[38;5;241m=\u001b[39magg_axis)\n\u001b[1;32m   6657\u001b[0m \u001b[38;5;28;01mif\u001b[39;00m thresh \u001b[38;5;129;01mis\u001b[39;00m \u001b[38;5;129;01mnot\u001b[39;00m lib\u001b[38;5;241m.\u001b[39mno_default:\n",
      "\u001b[0;31mKeyError\u001b[0m: ['Dividends']"
     ]
    }
   ],
   "source": [
    "import os\n",
    "import numpy as np\n",
    "import pandas as pd\n",
    "from sklearn.preprocessing import MinMaxScaler\n",
    "from tensorflow.keras.models import Sequential\n",
    "from tensorflow.keras.layers import LSTM, Dropout, Dense\n",
    "from tensorflow.keras.optimizers import Adam\n",
    "from tensorflow.keras.callbacks import EarlyStopping\n",
    "from sklearn.metrics import mean_squared_error, mean_absolute_error\n",
    "import wandb\n",
    "from matplotlib import pyplot as plt\n",
    "import random\n",
    "\n",
    "# Define the folder paths for stocks, dividends, and economic data\n",
    "folder_path = '../yahoo_/yahoo_sp500/'\n",
    "dividend_folder_path = '../yahoo_/yahoo_sp500_div/'\n",
    "gdp_file_path = '../yahoo_/united-states-gdp-growth-rate.csv'\n",
    "fed_funds_file_path = '../yahoo_/FEDFUNDS.csv'\n",
    "mortgage_rate_file_path = '../yahoo_/MORTGAGE30US.csv'\n",
    "\n",
    "run = input(\"Do you want to start a new run or continue an existing one? ('new' or 'existing'): \")\n",
    "if run.lower() == 'new':\n",
    "    wandb.init(project=\"LSTM\", entity=\"rk42218\")\n",
    "else:\n",
    "    run_id = input(\"Enter the wandb run ID to continue: \")\n",
    "    wandb.init(project=\"LSTM\", entity=\"rk42218\", id=run_id, resume=\"allow\")\n",
    "    \n",
    "# Function to calculate RSI\n",
    "def rsi_calculation(data, window=14):\n",
    "    delta = data.diff()\n",
    "    gain = (delta.where(delta > 0, 0)).rolling(window=window).mean()\n",
    "    loss = (-delta.where(delta < 0, 0)).rolling(window=window).mean()\n",
    "\n",
    "    rs = gain / loss\n",
    "    return 100 - (100 / (1 + rs))\n",
    "\n",
    "# Function to calculate MACD\n",
    "def macd_calculation(data, slow=26, fast=12):\n",
    "    exp1 = data.ewm(span=fast, adjust=False).mean()\n",
    "    exp2 = data.ewm(span=slow, adjust=False).mean()\n",
    "    macd = exp1 - exp2\n",
    "    signal = macd.ewm(span=9, adjust=False).mean()\n",
    "    return macd, signal\n",
    "\n",
    "# Load economic data and interpolate missing values\n",
    "gdp_data = pd.read_csv(gdp_file_path, parse_dates=['date'], index_col='date').interpolate()\n",
    "fed_funds_data = pd.read_csv(fed_funds_file_path, parse_dates=['DATE'], index_col='DATE').interpolate()\n",
    "mortgage_rate_data = pd.read_csv(mortgage_rate_file_path, parse_dates=['DATE'], index_col='DATE').interpolate()\n",
    "\n",
    "# Initialize lists to store metrics and predicted prices for all stocks\n",
    "all_metrics = []\n",
    "all_actual_predicted_prices = []\n",
    "\n",
    "# Process files that have not been processed yet\n",
    "all_files = [f for f in os.listdir(folder_path) if f.endswith('.csv') and f.split('.')[0] not in processed_tickers]\n",
    "for filename in all_files:\n",
    "    ticker_name = filename.split('.')[0]\n",
    "    print(ticker_name)\n",
    "    # Load the data for the stock\n",
    "    stock_file_path = os.path.join(folder_path, filename)\n",
    "    data = pd.read_csv(stock_file_path, parse_dates=['Date'], index_col='Date')\n",
    "\n",
    "    # Calculate technical indicators\n",
    "    data['MA50'] = data['Close'].rolling(window=50).mean()\n",
    "    data['RSI'] = rsi_calculation(data['Close'])\n",
    "    data['MACD'], data['Signal'] = macd_calculation(data['Close'])\n",
    "    \n",
    "    clean_data = data.dropna(subset=features)\n",
    "    if clean_data.empty:\n",
    "        print(f\"Data for {ticker_name} is empty after dropping NaN values. Skipping this stock.\")\n",
    "        continue\n",
    "\n",
    "    # Scaling data\n",
    "    scaler = MinMaxScaler(feature_range=(0, 1))\n",
    "    features = ['Open', 'High', 'Low', 'Close', 'Volume', 'MA50', 'RSI', 'MACD', 'Signal']\n",
    "    data_scaled = scaler.fit_transform(data.dropna()[features])\n",
    "    data_scaled_df = pd.DataFrame(data_scaled, columns=features, index=data.dropna().index)\n",
    "\n",
    "    # Preparing data for LSTM\n",
    "    X = np.array(data_scaled_df.drop(['Close'], axis=1))\n",
    "    y = np.array(data_scaled_df['Close'])\n",
    "    X = X.reshape((X.shape[0], X.shape[1], 1))\n",
    "\n",
    "    # Split data into train and test sets\n",
    "    split = int(0.8 * len(X))\n",
    "    X_train, X_test = X[:split], X[split:]\n",
    "    y_train, y_test = y[:split], y[split:]\n",
    "    \n",
    "    print(\"X_train shape:\", X_train.shape)\n",
    "    print(\"y_train shape:\", y_train.shape)\n",
    "    print(\"X_test shape:\", X_test.shape)\n",
    "    print(\"y_test shape:\", y_test.shape)\n",
    "    \n",
    "    if X_train.size == 0 or X_test.size == 0:\n",
    "        print(f\"Not enough data to split for {ticker_name}. Skipping.\")\n",
    "        continue\n",
    "\n",
    "    # Build and train the LSTM model\n",
    "    model = Sequential([\n",
    "        LSTM(50, input_shape=(X_train.shape[1], X_train.shape[2]), return_sequences=True),\n",
    "        Dropout(0.2),\n",
    "        LSTM(50),\n",
    "        Dropout(0.2),\n",
    "        Dense(1)\n",
    "    ])\n",
    "    optimizer = Adam(learning_rate=0.001)\n",
    "    model.compile(optimizer=optimizer, loss='mean_squared_error')\n",
    "    early_stopping = EarlyStopping(monitor='val_loss', patience=10, restore_best_weights=True)\n",
    "    history = model.fit(X_train, y_train, epochs=50, batch_size=32, validation_data=(X_test, y_test), callbacks=[early_stopping])\n",
    "\n",
    "    # Predict the next stock price for the entire test set\n",
    "    predicted_scaled_prices = model.predict(X_test)\n",
    "    predicted_prices = scaler.inverse_transform(\n",
    "        np.concatenate((predicted_scaled_prices, np.zeros((predicted_scaled_prices.shape[0], len(features) - 1))),\n",
    "                       axis=1))[:, 0]\n",
    "\n",
    "    # Actual prices\n",
    "    actual_prices = scaler.inverse_transform(\n",
    "        np.concatenate((y_test.reshape(-1, 1), np.zeros((y_test.shape[0], len(features) - 1))), axis=1))[:, 0]\n",
    "\n",
    "    # Evaluate the model\n",
    "    y_pred = model.predict(X_test)\n",
    "    mse = mean_squared_error(y_test, y_pred)\n",
    "    mae = mean_absolute_error(y_test, y_pred)\n",
    "    rmse = np.sqrt(mse)\n",
    "    \n",
    "    # Append actual and predicted prices for this stock to the list\n",
    "    last_actual_price = actual_prices[-1]\n",
    "    price_difference = predicted_prices[0] - last_actual_price\n",
    "\n",
    "    print(ticker_name ,':', mse, mae, rmse, )\n",
    "    print(ticker_name ,':', last_actual_price, predicted_prices[0], price_difference, )\n",
    "    \n",
    "    df = pd.DataFrame({\n",
    "        'Ticker': [ticker_name],\n",
    "        'MSE': [mse],\n",
    "        'MAE': [mae],\n",
    "        'RMSE': [rmse],\n",
    "        'Last Actual Price': [actual_prices[-1]],\n",
    "        'Predicted Price': [predicted_prices[0]]\n",
    "    })\n",
    "    # Log metrics to wandb\n",
    "    wandb.log({\"ticker\": ticker_name, \"mse\": mse, \"mae\": mae, \"rmse\": rmse})\n",
    "    \n",
    "    # Plotting actual vs predicted prices\n",
    "    plt.figure(figsize=(10, 6))\n",
    "    plt.plot(actual_prices, label='Actual Prices')\n",
    "    plt.plot(predicted_prices, label='Predicted Prices', color='red')\n",
    "    plt.title(f'Comparison of Actual and Predicted Stock Prices ({ticker_name})')\n",
    "    plt.xlabel('Time')\n",
    "    plt.ylabel('Stock Price')\n",
    "    plt.legend()\n",
    "\n",
    "    # Create a wandb chart object for actual vs predicted prices plot\n",
    "    actual_predicted_chart = wandb.Image(plt)\n",
    "\n",
    "    # Log the wandb chart object to wandb\n",
    "    wandb.log({\"Actual_vs_Predicted_Prices\": actual_predicted_chart})\n",
    "\n",
    "    # Plotting model loss over epochs\n",
    "    plt.figure(figsize=(10, 6))\n",
    "    plt.plot(history.history['loss'], label='Training Loss')\n",
    "    plt.plot(history.history['val_loss'], label='Validation Loss')\n",
    "    plt.title(f'Model Loss Over Epochs ({ticker_name})')\n",
    "    plt.xlabel('Epochs')\n",
    "    plt.ylabel('Loss')\n",
    "    plt.legend()\n",
    "\n",
    "    # Create a wandb chart object for model loss over epochs plot\n",
    "    loss_chart = wandb.Image(plt)\n",
    "\n",
    "    # Log the wandb chart object to wandb\n",
    "    wandb.log({\"Model_Loss_Over_Epochs\": loss_chart})\n",
    "    \n",
    "    excel_file_path = 'all_stocks_data_with_economic_data.xlsx'\n",
    "    sheet_name = 'Stock_Data'\n",
    "\n",
    "    # Check if the file exists to decide how to handle the DataFrame writing\n",
    "    if os.path.exists(excel_file_path):\n",
    "        with pd.ExcelWriter(excel_file_path, engine='openpyxl', mode='a', if_sheet_exists='overlay') as writer:\n",
    "            # Load existing data\n",
    "            try:\n",
    "                existing_data = pd.read_excel(excel_file_path, sheet_name=sheet_name)\n",
    "                # Concatenate new data\n",
    "                updated_data = pd.concat([existing_data, df], ignore_index=True)\n",
    "                # Write the updated data\n",
    "                updated_data.to_excel(writer, sheet_name=sheet_name, index=False)\n",
    "            except ValueError:\n",
    "                # If the sheet doesn't exist, just write the new data\n",
    "                df.to_excel(writer, sheet_name=sheet_name, index=False)\n",
    "    else:\n",
    "        # If the file doesn't exist, just write the new data\n",
    "        with pd.ExcelWriter(excel_file_path, engine='openpyxl', mode='w') as writer:\n",
    "            df.to_excel(writer, sheet_name=sheet_name, index=False)\n",
    "\n",
    "    print(f\"Data for {ticker_name} appended successfully.\")\n",
    "\n",
    "    plt.close('all')\n",
    "    \n",
    "# Output results\n",
    "for metrics in all_metrics:\n",
    "    print(metrics)\n",
    "\n",
    "wandb.finish()"
   ]
  },
  {
   "cell_type": "code",
   "execution_count": null,
   "id": "13904901",
   "metadata": {},
   "outputs": [],
   "source": []
  },
  {
   "cell_type": "code",
   "execution_count": null,
   "id": "418aeab1",
   "metadata": {},
   "outputs": [],
   "source": [
    "8ec35a234a46a89ebbd86b828e73cde0"
   ]
  },
  {
   "cell_type": "code",
   "execution_count": null,
   "id": "aadbc59b",
   "metadata": {},
   "outputs": [],
   "source": [
    "    print(ticker_name ,':', last_actual_price, predicted_prices[0], price_difference, )\n"
   ]
  },
  {
   "cell_type": "code",
   "execution_count": 11,
   "id": "476051d5",
   "metadata": {},
   "outputs": [
    {
     "name": "stdout",
     "output_type": "stream",
     "text": [
      "69/69 [==============================] - 0s 403us/step\n",
      "Mean Squared Error: 7.276870052833386e-05\n",
      "Mean Absolute Error: 0.005296996788280327\n",
      "Root Mean Squared Error: 0.00853045722856248\n",
      "1/1 [==============================] - 0s 7ms/step\n",
      "Predicted next day stock price: 181.88175281370627\n"
     ]
    }
   ],
   "source": [
    "# Evaluate the model\n",
    "y_pred = model.predict(X_test)\n",
    "mse = mean_squared_error(y_test, y_pred)\n",
    "mae = mean_absolute_error(y_test, y_pred)\n",
    "rmse = np.sqrt(mse)  # Calculating RMSE\n",
    "\n",
    "print(\"Mean Squared Error:\", mse)\n",
    "print(\"Mean Absolute Error:\", mae)\n",
    "print(\"Root Mean Squared Error:\", rmse)\n",
    "\n",
    "# Predict the next stock pricebb\n",
    "predicted_scaled_price = model.predict(X_test[-1].reshape(1, 1, X_test.shape[2]))\n",
    "predicted_price = scaler.inverse_transform(np.concatenate((predicted_scaled_price, np.zeros((predicted_scaled_price.shape[0], len(features)-1))), axis=1))[:, 0]\n",
    "print(f\"Predicted next day stock price: {predicted_price[0]}\")"
   ]
  },
  {
   "cell_type": "code",
   "execution_count": 2,
   "id": "c4bde001",
   "metadata": {},
   "outputs": [
    {
     "ename": "NameError",
     "evalue": "name 'actual_prices' is not defined",
     "output_type": "error",
     "traceback": [
      "\u001b[0;31m---------------------------------------------------------------------------\u001b[0m",
      "\u001b[0;31mNameError\u001b[0m                                 Traceback (most recent call last)",
      "Cell \u001b[0;32mIn[2], line 5\u001b[0m\n\u001b[1;32m      2\u001b[0m \u001b[38;5;28;01mfrom\u001b[39;00m \u001b[38;5;21;01mmatplotlib\u001b[39;00m \u001b[38;5;28;01mimport\u001b[39;00m pyplot \u001b[38;5;28;01mas\u001b[39;00m plt\n\u001b[1;32m      4\u001b[0m plt\u001b[38;5;241m.\u001b[39mfigure(figsize\u001b[38;5;241m=\u001b[39m(\u001b[38;5;241m10\u001b[39m, \u001b[38;5;241m6\u001b[39m))\n\u001b[0;32m----> 5\u001b[0m plt\u001b[38;5;241m.\u001b[39mplot(actual_prices, label\u001b[38;5;241m=\u001b[39m\u001b[38;5;124m'\u001b[39m\u001b[38;5;124mActual Prices\u001b[39m\u001b[38;5;124m'\u001b[39m)\n\u001b[1;32m      6\u001b[0m plt\u001b[38;5;241m.\u001b[39mplot(predicted_prices, label\u001b[38;5;241m=\u001b[39m\u001b[38;5;124m'\u001b[39m\u001b[38;5;124mPredicted Prices\u001b[39m\u001b[38;5;124m'\u001b[39m, color\u001b[38;5;241m=\u001b[39m\u001b[38;5;124m'\u001b[39m\u001b[38;5;124mred\u001b[39m\u001b[38;5;124m'\u001b[39m)\n\u001b[1;32m      7\u001b[0m plt\u001b[38;5;241m.\u001b[39mtitle(\u001b[38;5;124m'\u001b[39m\u001b[38;5;124mComparison of Actual and Predicted Stock Prices\u001b[39m\u001b[38;5;124m'\u001b[39m)\n",
      "\u001b[0;31mNameError\u001b[0m: name 'actual_prices' is not defined"
     ]
    },
    {
     "data": {
      "text/plain": [
       "<Figure size 1000x600 with 0 Axes>"
      ]
     },
     "metadata": {},
     "output_type": "display_data"
    }
   ],
   "source": [
    "# Plotting actual vs predicted prices\n",
    "from matplotlib import pyplot as plt\n",
    "\n",
    "plt.figure(figsize=(10, 6))\n",
    "plt.plot(actual_prices, label='Actual Prices')\n",
    "plt.plot(predicted_prices, label='Predicted Prices', color='red')\n",
    "plt.title('Comparison of Actual and Predicted Stock Prices')\n",
    "plt.xlabel('Time')\n",
    "plt.ylabel('Stock Price')\n",
    "plt.legend()\n",
    "plt.show()"
   ]
  },
  {
   "cell_type": "code",
   "execution_count": 25,
   "id": "518ec43b",
   "metadata": {
    "collapsed": true
   },
   "outputs": [
    {
     "data": {
      "image/png": "[encoded data removed]",
      "text/plain": [
       "<Figure size 1000x600 with 1 Axes>"
      ]
     },
     "metadata": {},
     "output_type": "display_data"
    }
   ],
   "source": [
    "from matplotlib import pyplot as plt\n",
    "\n",
    "\n",
    "plt.figure(figsize=(10, 6))\n",
    "plt.plot(history.history['loss'], label='Train Loss')\n",
    "plt.plot(history.history['val_loss'], label='Validation Loss')\n",
    "plt.title('Model Loss Over Epochs')\n",
    "plt.ylabel('Loss')\n",
    "plt.xlabel('Epoch')\n",
    "plt.legend()\n",
    "#plt.show()"
   ]
  },
  {
   "cell_type": "code",
   "execution_count": 14,
   "id": "8d5b7644",
   "metadata": {},
   "outputs": [
    {
     "name": "stdout",
     "output_type": "stream",
     "text": [
      "1/1 [==============================] - 0s 13ms/step\n",
      "Predicted next day stock price: 181.88175281370627\n"
     ]
    }
   ],
   "source": [
    "# Predict the next stock price\n",
    "predicted_scaled_price = model.predict(X_test[-1].reshape(1, 1, X_test.shape[2]))\n",
    "predicted_price = scaler.inverse_transform(np.concatenate((predicted_scaled_price, np.zeros((predicted_scaled_price.shape[0], len(features)-1))), axis=1))[:, 0]\n",
    "print(f\"Predicted next day stock price: {predicted_price[0]}\")"
   ]
  },
  {
   "cell_type": "code",
   "execution_count": 31,
   "id": "7e873fd5",
   "metadata": {},
   "outputs": [],
   "source": []
  },
  {
   "cell_type": "code",
   "execution_count": 10,
   "id": "f50b731c",
   "metadata": {
    "scrolled": true
   },
   "outputs": [
    {
     "name": "stdout",
     "output_type": "stream",
     "text": [
      "Do you want to start a new run or continue an existing one? ('new' or 'existing'): new\n"
     ]
    },
    {
     "data": {
      "text/html": [
       "Finishing last run (ID:oow5a7ha) before initializing another..."
      ],
      "text/plain": [
       "<IPython.core.display.HTML object>"
      ]
     },
     "metadata": {},
     "output_type": "display_data"
    },
    {
     "data": {
      "application/vnd.jupyter.widget-view+json": {
       "model_id": "",
       "version_major": 2,
       "version_minor": 0
      },
      "text/plain": [
       "VBox(children=(Label(value='0.001 MB of 0.001 MB uploaded\\r'), FloatProgress(value=1.0, max=1.0)))"
      ]
     },
     "metadata": {},
     "output_type": "display_data"
    },
    {
     "data": {
      "text/html": [
       " View run <strong style=\"color:#cdcd00\">morning-sponge-79</strong> at: <a href='https://wandb.ai/rk42218/LSTM/runs/oow5a7ha' target=\"_blank\">https://wandb.ai/rk42218/LSTM/runs/oow5a7ha</a><br/> View project at: <a href='https://wandb.ai/rk42218/LSTM' target=\"_blank\">https://wandb.ai/rk42218/LSTM</a><br/>Synced 6 W&B file(s), 0 media file(s), 0 artifact file(s) and 0 other file(s)"
      ],
      "text/plain": [
       "<IPython.core.display.HTML object>"
      ]
     },
     "metadata": {},
     "output_type": "display_data"
    },
    {
     "data": {
      "text/html": [
       "Find logs at: <code>./wandb/run-20240513_023724-oow5a7ha/logs</code>"
      ],
      "text/plain": [
       "<IPython.core.display.HTML object>"
      ]
     },
     "metadata": {},
     "output_type": "display_data"
    },
    {
     "data": {
      "text/html": [
       "Successfully finished last run (ID:oow5a7ha). Initializing new run:<br/>"
      ],
      "text/plain": [
       "<IPython.core.display.HTML object>"
      ]
     },
     "metadata": {},
     "output_type": "display_data"
    },
    {
     "data": {
      "application/vnd.jupyter.widget-view+json": {
       "model_id": "4a17f24eb54e4e50aa412ddc0726facd",
       "version_major": 2,
       "version_minor": 0
      },
      "text/plain": [
       "VBox(children=(Label(value='Waiting for wandb.init()...\\r'), FloatProgress(value=0.011168350466646694, max=1.0…"
      ]
     },
     "metadata": {},
     "output_type": "display_data"
    },
    {
     "data": {
      "text/html": [
       "wandb version 0.17.0 is available!  To upgrade, please run:\n",
       " $ pip install wandb --upgrade"
      ],
      "text/plain": [
       "<IPython.core.display.HTML object>"
      ]
     },
     "metadata": {},
     "output_type": "display_data"
    },
    {
     "data": {
      "text/html": [
       "Tracking run with wandb version 0.16.6"
      ],
      "text/plain": [
       "<IPython.core.display.HTML object>"
      ]
     },
     "metadata": {},
     "output_type": "display_data"
    },
    {
     "data": {
      "text/html": [
       "Run data is saved locally in <code>/Users/ruthikkale/Documents/GitHub/StockX/single_stock/wandb/run-20240513_024232-5qmyvwao</code>"
      ],
      "text/plain": [
       "<IPython.core.display.HTML object>"
      ]
     },
     "metadata": {},
     "output_type": "display_data"
    },
    {
     "data": {
      "text/html": [
       "Syncing run <strong><a href='https://wandb.ai/rk42218/LSTM/runs/5qmyvwao' target=\"_blank\">sandy-cosmos-80</a></strong> to <a href='https://wandb.ai/rk42218/LSTM' target=\"_blank\">Weights & Biases</a> (<a href='https://wandb.me/run' target=\"_blank\">docs</a>)<br/>"
      ],
      "text/plain": [
       "<IPython.core.display.HTML object>"
      ]
     },
     "metadata": {},
     "output_type": "display_data"
    },
    {
     "data": {
      "text/html": [
       " View project at <a href='https://wandb.ai/rk42218/LSTM' target=\"_blank\">https://wandb.ai/rk42218/LSTM</a>"
      ],
      "text/plain": [
       "<IPython.core.display.HTML object>"
      ]
     },
     "metadata": {},
     "output_type": "display_data"
    },
    {
     "data": {
      "text/html": [
       " View run at <a href='https://wandb.ai/rk42218/LSTM/runs/5qmyvwao' target=\"_blank\">https://wandb.ai/rk42218/LSTM/runs/5qmyvwao</a>"
      ],
      "text/plain": [
       "<IPython.core.display.HTML object>"
      ]
     },
     "metadata": {},
     "output_type": "display_data"
    },
    {
     "name": "stdout",
     "output_type": "stream",
     "text": [
      "Columns available: Index(['Open', 'High', 'Low', 'Close', 'Adj Close', 'Volume'], dtype='object')\n"
     ]
    },
    {
     "name": "stderr",
     "output_type": "stream",
     "text": [
      "WARNING:absl:At this time, the v2.11+ optimizer `tf.keras.optimizers.Adam` runs slowly on M1/M2 Macs, please use the legacy Keras optimizer instead, located at `tf.keras.optimizers.legacy.Adam`.\n"
     ]
    },
    {
     "name": "stdout",
     "output_type": "stream",
     "text": [
      "Epoch 1/50\n",
      "203/203 [==============================] - 5s 11ms/step - loss: 2.4216e-04 - val_loss: 7.0377e-04\n",
      "Epoch 2/50\n",
      "203/203 [==============================] - 2s 8ms/step - loss: 3.5445e-05 - val_loss: 0.0033\n",
      "Epoch 3/50\n",
      "203/203 [==============================] - 2s 9ms/step - loss: 2.3343e-05 - val_loss: 0.0033\n",
      "Epoch 4/50\n",
      "203/203 [==============================] - 2s 8ms/step - loss: 2.4562e-05 - val_loss: 0.0030\n",
      "Epoch 5/50\n",
      "203/203 [==============================] - 2s 8ms/step - loss: 1.8588e-05 - val_loss: 0.0022\n",
      "Epoch 6/50\n",
      "203/203 [==============================] - 2s 8ms/step - loss: 1.7426e-05 - val_loss: 0.0011\n",
      "Epoch 7/50\n",
      "203/203 [==============================] - 2s 8ms/step - loss: 1.9455e-05 - val_loss: 0.0028\n",
      "Epoch 8/50\n",
      "203/203 [==============================] - 2s 8ms/step - loss: 1.8977e-05 - val_loss: 0.0032\n",
      "Epoch 9/50\n",
      "203/203 [==============================] - 2s 8ms/step - loss: 1.6376e-05 - val_loss: 0.0011\n",
      "Epoch 10/50\n",
      "203/203 [==============================] - 2s 8ms/step - loss: 1.7790e-05 - val_loss: 0.0034\n",
      "Epoch 11/50\n",
      "203/203 [==============================] - 2s 8ms/step - loss: 1.6800e-05 - val_loss: 0.0032\n",
      "51/51 [==============================] - 1s 2ms/step\n",
      "All data for ZBRA saved successfully to Excel.\n",
      "Columns available: Index(['Open', 'High', 'Low', 'Close', 'Adj Close', 'Volume'], dtype='object')\n"
     ]
    },
    {
     "name": "stderr",
     "output_type": "stream",
     "text": [
      "WARNING:absl:At this time, the v2.11+ optimizer `tf.keras.optimizers.Adam` runs slowly on M1/M2 Macs, please use the legacy Keras optimizer instead, located at `tf.keras.optimizers.legacy.Adam`.\n"
     ]
    },
    {
     "name": "stdout",
     "output_type": "stream",
     "text": [
      "Epoch 1/50\n",
      "1/1 [==============================] - 3s 3s/step - loss: 0.3778 - val_loss: 0.4333\n",
      "Epoch 2/50\n",
      "1/1 [==============================] - 0s 21ms/step - loss: 0.3473 - val_loss: 0.4027\n",
      "Epoch 3/50\n",
      "1/1 [==============================] - 0s 20ms/step - loss: 0.3168 - val_loss: 0.3716\n",
      "Epoch 4/50\n",
      "1/1 [==============================] - 0s 20ms/step - loss: 0.2990 - val_loss: 0.3389\n",
      "Epoch 5/50\n",
      "1/1 [==============================] - 0s 20ms/step - loss: 0.2687 - val_loss: 0.3036\n",
      "Epoch 6/50\n",
      "1/1 [==============================] - 0s 20ms/step - loss: 0.2476 - val_loss: 0.2659\n",
      "Epoch 7/50\n",
      "1/1 [==============================] - 0s 21ms/step - loss: 0.2227 - val_loss: 0.2254\n",
      "Epoch 8/50\n",
      "1/1 [==============================] - 0s 21ms/step - loss: 0.1687 - val_loss: 0.1822\n",
      "Epoch 9/50\n",
      "1/1 [==============================] - 0s 21ms/step - loss: 0.1517 - val_loss: 0.1373\n",
      "Epoch 10/50\n",
      "1/1 [==============================] - 0s 21ms/step - loss: 0.1384 - val_loss: 0.0928\n",
      "Epoch 11/50\n",
      "1/1 [==============================] - 0s 21ms/step - loss: 0.0965 - val_loss: 0.0518\n",
      "Epoch 12/50\n",
      "1/1 [==============================] - 0s 22ms/step - loss: 0.0629 - val_loss: 0.0198\n",
      "Epoch 13/50\n",
      "1/1 [==============================] - 0s 21ms/step - loss: 0.0710 - val_loss: 0.0031\n",
      "Epoch 14/50\n",
      "1/1 [==============================] - 0s 20ms/step - loss: 0.0741 - val_loss: 5.4384e-04\n",
      "Epoch 15/50\n",
      "1/1 [==============================] - 0s 20ms/step - loss: 0.0810 - val_loss: 0.0023\n",
      "Epoch 16/50\n",
      "1/1 [==============================] - 0s 20ms/step - loss: 0.0911 - val_loss: 0.0018\n",
      "Epoch 17/50\n",
      "1/1 [==============================] - 0s 21ms/step - loss: 0.1189 - val_loss: 5.3214e-04\n",
      "Epoch 18/50\n",
      "1/1 [==============================] - 0s 20ms/step - loss: 0.0980 - val_loss: 0.0032\n",
      "Epoch 19/50\n",
      "1/1 [==============================] - 0s 20ms/step - loss: 0.0704 - val_loss: 0.0113\n",
      "Epoch 20/50\n",
      "1/1 [==============================] - 0s 21ms/step - loss: 0.0712 - val_loss: 0.0240\n",
      "Epoch 21/50\n",
      "1/1 [==============================] - 0s 20ms/step - loss: 0.0498 - val_loss: 0.0385\n",
      "Epoch 22/50\n",
      "1/1 [==============================] - 0s 20ms/step - loss: 0.0550 - val_loss: 0.0529\n",
      "Epoch 23/50\n",
      "1/1 [==============================] - 0s 20ms/step - loss: 0.0601 - val_loss: 0.0650\n",
      "Epoch 24/50\n",
      "1/1 [==============================] - 0s 20ms/step - loss: 0.0839 - val_loss: 0.0730\n",
      "Epoch 25/50\n",
      "1/1 [==============================] - 0s 20ms/step - loss: 0.0825 - val_loss: 0.0772\n",
      "Epoch 26/50\n",
      "1/1 [==============================] - 0s 20ms/step - loss: 0.0672 - val_loss: 0.0775\n",
      "Epoch 27/50\n",
      "1/1 [==============================] - 0s 21ms/step - loss: 0.0733 - val_loss: 0.0748\n",
      "1/1 [==============================] - 1s 525ms/step\n",
      "All data for VLTO saved successfully to Excel.\n",
      "Columns available: Index(['Open', 'High', 'Low', 'Close', 'Adj Close', 'Volume'], dtype='object')\n"
     ]
    },
    {
     "name": "stderr",
     "output_type": "stream",
     "text": [
      "WARNING:absl:At this time, the v2.11+ optimizer `tf.keras.optimizers.Adam` runs slowly on M1/M2 Macs, please use the legacy Keras optimizer instead, located at `tf.keras.optimizers.legacy.Adam`.\n"
     ]
    },
    {
     "name": "stdout",
     "output_type": "stream",
     "text": [
      "Epoch 1/50\n",
      "68/68 [==============================] - 4s 16ms/step - loss: 0.0127 - val_loss: 0.0013\n",
      "Epoch 2/50\n",
      "68/68 [==============================] - 1s 8ms/step - loss: 0.0011 - val_loss: 0.0017\n",
      "Epoch 3/50\n",
      "68/68 [==============================] - 1s 8ms/step - loss: 0.0012 - val_loss: 8.6374e-05\n",
      "Epoch 4/50\n",
      "68/68 [==============================] - 1s 9ms/step - loss: 8.2191e-04 - val_loss: 1.2653e-04\n",
      "Epoch 5/50\n",
      "68/68 [==============================] - 1s 9ms/step - loss: 8.4525e-04 - val_loss: 2.5084e-04\n",
      "Epoch 6/50\n",
      "68/68 [==============================] - 1s 9ms/step - loss: 8.4970e-04 - val_loss: 0.0011\n",
      "Epoch 7/50\n",
      "68/68 [==============================] - 1s 9ms/step - loss: 7.0735e-04 - val_loss: 3.0599e-04\n",
      "Epoch 8/50\n",
      "68/68 [==============================] - 1s 9ms/step - loss: 7.4481e-04 - val_loss: 5.8207e-04\n",
      "Epoch 9/50\n",
      "68/68 [==============================] - 1s 8ms/step - loss: 8.0442e-04 - val_loss: 3.6927e-04\n",
      "Epoch 10/50\n",
      "68/68 [==============================] - 1s 8ms/step - loss: 8.0526e-04 - val_loss: 3.5455e-04\n",
      "Epoch 11/50\n",
      "68/68 [==============================] - 1s 8ms/step - loss: 7.1128e-04 - val_loss: 3.4748e-04\n",
      "Epoch 12/50\n",
      "68/68 [==============================] - 1s 9ms/step - loss: 7.1321e-04 - val_loss: 0.0021\n",
      "Epoch 13/50\n",
      "68/68 [==============================] - 1s 8ms/step - loss: 9.5002e-04 - val_loss: 8.2569e-04\n",
      "17/17 [==============================] - 1s 2ms/step\n",
      "All data for ZTS saved successfully to Excel.\n",
      "Columns available: Index(['Open', 'High', 'Low', 'Close', 'Adj Close', 'Volume'], dtype='object')\n"
     ]
    },
    {
     "name": "stderr",
     "output_type": "stream",
     "text": [
      "WARNING:absl:At this time, the v2.11+ optimizer `tf.keras.optimizers.Adam` runs slowly on M1/M2 Macs, please use the legacy Keras optimizer instead, located at `tf.keras.optimizers.legacy.Adam`.\n"
     ]
    },
    {
     "name": "stdout",
     "output_type": "stream",
     "text": [
      "Epoch 1/50\n",
      "140/140 [==============================] - 4s 11ms/step - loss: 0.0093 - val_loss: 1.1325e-04\n",
      "Epoch 2/50\n",
      "140/140 [==============================] - 1s 7ms/step - loss: 0.0012 - val_loss: 2.0757e-04\n",
      "Epoch 3/50\n",
      "140/140 [==============================] - 1s 7ms/step - loss: 0.0011 - val_loss: 1.1422e-04\n",
      "Epoch 4/50\n",
      "140/140 [==============================] - 1s 7ms/step - loss: 0.0010 - val_loss: 4.3471e-04\n",
      "Epoch 5/50\n",
      "140/140 [==============================] - 1s 7ms/step - loss: 9.0507e-04 - val_loss: 2.5126e-04\n",
      "Epoch 6/50\n",
      "140/140 [==============================] - 1s 7ms/step - loss: 9.2886e-04 - val_loss: 0.0011\n",
      "Epoch 7/50\n",
      "140/140 [==============================] - 1s 7ms/step - loss: 8.3736e-04 - val_loss: 1.9070e-04\n",
      "Epoch 8/50\n",
      "140/140 [==============================] - 1s 7ms/step - loss: 8.3189e-04 - val_loss: 5.3163e-04\n",
      "Epoch 9/50\n",
      "140/140 [==============================] - 1s 7ms/step - loss: 7.2031e-04 - val_loss: 0.0029\n",
      "Epoch 10/50\n",
      "140/140 [==============================] - 1s 7ms/step - loss: 7.7196e-04 - val_loss: 8.9007e-04\n",
      "Epoch 11/50\n",
      "140/140 [==============================] - 1s 7ms/step - loss: 6.3320e-04 - val_loss: 2.8998e-04\n",
      "35/35 [==============================] - 1s 2ms/step\n",
      "All data for ZBH saved successfully to Excel.\n"
     ]
    },
    {
     "data": {
      "application/vnd.jupyter.widget-view+json": {
       "model_id": "",
       "version_major": 2,
       "version_minor": 0
      },
      "text/plain": [
       "VBox(children=(Label(value='0.001 MB of 0.001 MB uploaded\\r'), FloatProgress(value=1.0, max=1.0)))"
      ]
     },
     "metadata": {},
     "output_type": "display_data"
    },
    {
     "data": {
      "text/html": [
       " View run <strong style=\"color:#cdcd00\">sandy-cosmos-80</strong> at: <a href='https://wandb.ai/rk42218/LSTM/runs/5qmyvwao' target=\"_blank\">https://wandb.ai/rk42218/LSTM/runs/5qmyvwao</a><br/> View project at: <a href='https://wandb.ai/rk42218/LSTM' target=\"_blank\">https://wandb.ai/rk42218/LSTM</a><br/>Synced 6 W&B file(s), 0 media file(s), 0 artifact file(s) and 0 other file(s)"
      ],
      "text/plain": [
       "<IPython.core.display.HTML object>"
      ]
     },
     "metadata": {},
     "output_type": "display_data"
    },
    {
     "data": {
      "text/html": [
       "Find logs at: <code>./wandb/run-20240513_024232-5qmyvwao/logs</code>"
      ],
      "text/plain": [
       "<IPython.core.display.HTML object>"
      ]
     },
     "metadata": {},
     "output_type": "display_data"
    }
   ],
   "source": [
    "import os\n",
    "import pandas as pd\n",
    "from sklearn.preprocessing import MinMaxScaler\n",
    "from tensorflow.keras.models import Sequential\n",
    "from tensorflow.keras.layers import LSTM, Dropout, Dense\n",
    "from tensorflow.keras.optimizers import Adam\n",
    "from tensorflow.keras.callbacks import EarlyStopping\n",
    "from sklearn.metrics import mean_squared_error, mean_absolute_error\n",
    "import wandb\n",
    "from matplotlib import pyplot as plt\n",
    "from openpyxl import load_workbook\n",
    "from openpyxl import load_workbook\n",
    "import pandas as pd\n",
    "import numpy as np\n",
    "import os\n",
    "import pandas as pd\n",
    "from openpyxl import load_workbook\n",
    "from pandas import ExcelWriter\n",
    "\n",
    "\n",
    "class StockModel:\n",
    "    def __init__(self):\n",
    "        self.folder_path = '../yahoo_/dunmmy/'  # Corrected path typo from 'dunmmy' to 'dummy'\n",
    "        self.dividend_folder_path = '../yahoo_/yahoo_sp500_div/'\n",
    "        self.gdp_file_path = '../yahoo_/united-states-gdp-growth-rate.csv'\n",
    "        self.fed_funds_file_path = '../yahoo_/FEDFUNDS.csv'\n",
    "        self.mortgage_rate_file_path = '../yahoo_/MORTGAGE30US.csv'\n",
    "        self.init_wandb()\n",
    "        self.excel_file_path = './all_stocks_data_with_economic_data.xlsx'\n",
    "        self.results = self.load_existing_results()\n",
    "\n",
    "    def init_wandb(self):\n",
    "        run = input(\"Do you want to start a new run or continue an existing one? ('new' or 'existing'): \")\n",
    "        if run.lower() == 'new':\n",
    "            wandb.init(project=\"LSTM\", entity=\"rk42218\")\n",
    "        else:\n",
    "            run_id = input(\"Enter the wandb run ID to continue: \")\n",
    "            wandb.init(project=\"LSTM\", entity=\"rk42218\", id=run_id, resume=\"allow\")\n",
    "\n",
    "    def load_economic_data(self):\n",
    "        self.gdp_data = pd.read_csv(self.gdp_file_path, parse_dates=['date'], index_col='date').interpolate()\n",
    "        self.fed_funds_data = pd.read_csv(self.fed_funds_file_path, parse_dates=['DATE'], index_col='DATE').interpolate()\n",
    "        self.mortgage_rate_data = pd.read_csv(self.mortgage_rate_file_path, parse_dates=['DATE'], index_col='DATE').interpolate()\n",
    "\n",
    "    @staticmethod\n",
    "    def calculate_rsi(data, window=14):\n",
    "        delta = data.diff()\n",
    "        gain = (delta.where(delta > 0, 0)).rolling(window=window).mean()\n",
    "        loss = (-delta.where(delta < 0, 0)).rolling(window=window).mean()\n",
    "        rs = gain / loss\n",
    "        return 100 - (100 / (1 + rs))\n",
    "\n",
    "    @staticmethod\n",
    "    def calculate_macd(data, slow=26, fast=12):\n",
    "        exp1 = data.ewm(span=fast, adjust=False).mean()\n",
    "        exp2 = data.ewm(span=slow, adjust=False).mean()\n",
    "        macd = exp1 - exp2\n",
    "        signal = macd.ewm(span=9, adjust=False).mean()\n",
    "        return macd, signal\n",
    "\n",
    "    def process_stocks(self):\n",
    "        all_files = [f for f in os.listdir(self.folder_path) if f.endswith('.csv')]\n",
    "        for filename in all_files:\n",
    "            self.process_single_stock(filename)\n",
    "                                                                 \n",
    "    def scale_data(self, data, features):\n",
    "        \"\"\"Scales given features in the data.\"\"\"\n",
    "        scaler = MinMaxScaler(feature_range=(0, 1))\n",
    "        # Ensure data for features does not contain infinity or NaN values\n",
    "        data_clean = data[features].replace([np.inf, -np.inf], np.nan)\n",
    "        data_clean = data_clean.dropna()  # Dropping rows with NaN values\n",
    "        data_scaled = scaler.fit_transform(data_clean)\n",
    "        return data_scaled, scaler  # Return both the scaled data and the scaler\n",
    "\n",
    "\n",
    "    def process_single_stock(self, filename):\n",
    "        ticker_name = filename.split('.')[0]\n",
    "        data = pd.read_csv(os.path.join(self.folder_path, filename), parse_dates=['Date'], index_col='Date')\n",
    "        print(\"Columns available:\", data.columns)  # Check what columns are available\n",
    "        # Ensure 'Close' is among the columns, otherwise adjust the column name based on what's printed\n",
    "        if 'Close' not in data.columns:\n",
    "            raise KeyError(\"Column 'Close' is missing from the data.\")\n",
    "        current_date = data.index.max().strftime('%Y-%m-%d')  # Using the latest date from data\n",
    "\n",
    "        data['RSI'] = self.calculate_rsi(data['Close'])\n",
    "        data['MACD'], data['Signal'] = self.calculate_macd(data['Close'])\n",
    "        self.process_and_train_model(data, ticker_name, current_date)\n",
    "\n",
    "    def process_and_train_model(self, data, ticker_name, current_date):\n",
    "        features = ['Open', 'High', 'Low', 'Close', 'Volume', 'RSI', 'MACD']  # Updated to include RSI and MACD\n",
    "        data_scaled, scaler = self.scale_data(data, features)  # Receive scaled data and scaler\n",
    "        # Reshape data to include all features for multivariate LSTM model\n",
    "        X = data_scaled[:, :-1].reshape(-1, len(features) - 1, 1)  \n",
    "        y = data_scaled[:, 3]  # Assuming 'Close' is indexed at position 3\n",
    "\n",
    "        split = int(0.8 * len(X))\n",
    "        X_train, X_test, y_train, y_test = X[:split], X[split:], y[:split], y[split:]\n",
    "\n",
    "        model = self.build_hybrid_model(X_train.shape[1])\n",
    "        self.train_model(model, X_train, y_train, X_test, y_test)\n",
    "        self.evaluate_and_log(model, X_test, y_test, scaler, ticker_name, data['Close'].iloc[-1], current_date)  # Pass scaler along\n",
    "\n",
    "    def build_hybrid_model(self, input_dim):\n",
    "        model = Sequential([\n",
    "            LSTM(50, input_shape=(input_dim, 1), return_sequences=True),  # Univariate LSTM layer\n",
    "            Dropout(0.2),\n",
    "            LSTM(100, return_sequences=True),  # Additional LSTM layer for multivariate context\n",
    "            Dropout(0.2),\n",
    "            LSTM(50),  # Additional LSTM layer\n",
    "            Dropout(0.2),\n",
    "            Dense(1)\n",
    "        ])\n",
    "        model.compile(optimizer=Adam(learning_rate=0.001), loss='mean_squared_error')\n",
    "        return model\n",
    "\n",
    "    def train_model(self, model, X_train, y_train, X_test, y_test):\n",
    "        early_stopping = EarlyStopping(monitor='val_loss', patience=10, restore_best_weights=True)\n",
    "        model.fit(X_train, y_train, epochs=50, batch_size=32, validation_data=(X_test, y_test), callbacks=[early_stopping])\n",
    "\n",
    "    def evaluate_and_log(self, model, X_test, y_test, scaler, ticker_name, last_actual_price, current_date):\n",
    "        y_pred = model.predict(X_test)\n",
    "        mse = mean_squared_error(y_test, y_pred)\n",
    "        mae = mean_absolute_error(y_test, y_pred)\n",
    "        rmse = np.sqrt(mse)\n",
    "\n",
    "        if hasattr(scaler, 'scale_'):  # Check if scaler is fitted\n",
    "            try:\n",
    "                full_pred = np.zeros((1, len(scaler.scale_)))  # Zero padding for features\n",
    "                full_pred[:, 3] = y_pred[-1]  # Assuming 'Close' is the 4th feature\n",
    "                predicted_price = scaler.inverse_transform(full_pred)[0, 3]\n",
    "            except Exception as e:\n",
    "                print(\"An error occurred during prediction transformation:\", e)\n",
    "                predicted_price = None\n",
    "        else:\n",
    "            print(\"Scaler has not been fitted. Cannot inverse transform predictions.\")\n",
    "            predicted_price = None\n",
    "\n",
    "        if predicted_price is not None:\n",
    "            self.save_to_excel(ticker_name, mse, mae, rmse, last_actual_price, predicted_price, current_date)\n",
    "        else:\n",
    "            print(f\"Unable to save data for {ticker_name} due to missing prediction.\")\n",
    "\n",
    "    def load_existing_results(self):\n",
    "        # Load existing data if the file exists, otherwise return an empty DataFrame\n",
    "        if os.path.exists(self.excel_file_path):\n",
    "            return pd.read_excel(self.excel_file_path)\n",
    "        else:\n",
    "            return pd.DataFrame(columns=['Ticker', 'Date', 'MSE', 'MAE', 'RMSE', 'Last Actual Price', 'Predicted Price'])\n",
    "\n",
    "    def check_already_processed(self, ticker_name, current_date):\n",
    "        # Check if the ticker has already been processed for the given date\n",
    "        if not self.results.empty:\n",
    "            processed_dates = self.results[(self.results['Ticker'] == ticker_name) & (self.results['Date'] == current_date)]\n",
    "            if not processed_dates.empty:\n",
    "                print(f\"{ticker_name} has already been processed for {current_date}. Skipping...\")\n",
    "                return True\n",
    "        return False\n",
    "\n",
    "    def save_to_excel(self, ticker_name, mse, mae, rmse, last_actual_price, predicted_price, current_date):\n",
    "        # Prepare the new data as a DataFrame to be appended\n",
    "        new_data = pd.DataFrame({\n",
    "            'Ticker': [ticker_name],\n",
    "            'Date': [current_date],\n",
    "            'MSE': [mse],\n",
    "            'MAE': [mae],\n",
    "            'RMSE': [rmse],\n",
    "            'Last Actual Price': [last_actual_price],\n",
    "            'Predicted Price': [predicted_price]\n",
    "        })\n",
    "\n",
    "        # Check if the Excel file exists to decide how to handle the DataFrame writing\n",
    "        if os.path.exists(self.excel_file_path):\n",
    "            with pd.ExcelWriter(self.excel_file_path, engine='openpyxl', mode='a', if_sheet_exists='replace') as writer:\n",
    "                # Load existing data if 'Results' sheet exists\n",
    "                if 'Results' in writer.book.sheetnames:\n",
    "                    existing_data = pd.read_excel(self.excel_file_path, sheet_name='Results')\n",
    "                    updated_data = pd.concat([existing_data, new_data], ignore_index=True)\n",
    "                else:\n",
    "                    updated_data = new_data\n",
    "\n",
    "                # Write the updated data\n",
    "                updated_data.to_excel(writer, sheet_name='Results', index=False)\n",
    "        else:\n",
    "            # If the file doesn't exist, just write the new data\n",
    "            with pd.ExcelWriter(self.excel_file_path, engine='openpyxl', mode='w') as writer:\n",
    "                new_data.to_excel(writer, sheet_name='Results', index=False)\n",
    "\n",
    "        print(f\"All data for {ticker_name} saved successfully to Excel.\")\n",
    "\n",
    "\n",
    "        \n",
    "    def finish(self):\n",
    "        wandb.finish()\n",
    "\n",
    "if __name__ == \"__main__\":\n",
    "    stock_model = StockModel()\n",
    "    stock_model.load_economic_data()\n",
    "    stock_model.process_stocks()\n",
    "    stock_model.finish()"
   ]
  },
  {
   "cell_type": "code",
   "execution_count": 2,
   "id": "aeea0c9f",
   "metadata": {},
   "outputs": [
    {
     "name": "stdout",
     "output_type": "stream",
     "text": [
      "2.2.0\n"
     ]
    }
   ],
   "source": [
    "import pandas as pd\n",
    "print(pd.__version__)"
   ]
  },
  {
   "cell_type": "code",
   "execution_count": null,
   "id": "70cb18c7",
   "metadata": {},
   "outputs": [],
   "source": []
  }
 ],
 "metadata": {
  "kernelspec": {
   "display_name": "Python 3 (ipykernel)",
   "language": "python",
   "name": "python3"
  },
  "language_info": {
   "codemirror_mode": {
    "name": "ipython",
    "version": 3
   },
   "file_extension": ".py",
   "mimetype": "text/x-python",
   "name": "python",
   "nbconvert_exporter": "python",
   "pygments_lexer": "ipython3",
   "version": "3.11.4"
  }
 },
 "nbformat": 4,
 "nbformat_minor": 5
}
